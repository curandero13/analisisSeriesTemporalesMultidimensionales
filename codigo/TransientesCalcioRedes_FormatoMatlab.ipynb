{
 "cells": [
  {
   "cell_type": "markdown",
   "metadata": {},
   "source": [
    "# Transientes de calcio registradas en rebanadas cerebrales: Apertura de archivos tipo *.mat \n",
    "\n",
    "### Marco Arieli Herrera-Valdez$^1$\n",
    "#### $^1$ Laboratorio de Fisiología de Sistemas, Facultad de Ciencias, UNAM\n",
    "##### Ultima revisión: 2019.12.31\n",
    "\n",
    "En este tutorial se muestra como abrir un archivo tipo *.mat y como explorar su contenido para extraer datos de un registro de transientes de calcio. Los datos ya han sido preprocesados y están en arreglos que contienen 0 o 1 en cada entrada dependiendo de si hay un pulso de calcio para cada registro. El script está escrito bajo la suposición de que hay un directorio llamado \"datosMuestra\" y dentro de ese directorio hay un archivo que se llama \"muestraTransientesCalcio_1.mat\""
   ]
  },
  {
   "cell_type": "code",
   "execution_count": 1,
   "metadata": {},
   "outputs": [],
   "source": [
    "import os\n",
    "import scipy as sc\n",
    "import matplotlib.pyplot as gr\n",
    "%matplotlib inline\n",
    "gr.ion()"
   ]
  },
  {
   "cell_type": "markdown",
   "metadata": {},
   "source": [
    "## Importacion de archivos tipo .mat"
   ]
  },
  {
   "cell_type": "markdown",
   "metadata": {},
   "source": [
    "Ahora importamos librerías para abrir archivos con extensiones *.mat (Matlab)"
   ]
  },
  {
   "cell_type": "code",
   "execution_count": 2,
   "metadata": {},
   "outputs": [],
   "source": [
    "import scipy.io as sio"
   ]
  },
  {
   "cell_type": "markdown",
   "metadata": {},
   "source": [
    "Primero creamos variables para el directorio donde están los datos y para identificar el archivo que queremos"
   ]
  },
  {
   "cell_type": "code",
   "execution_count": 3,
   "metadata": {},
   "outputs": [
    {
     "data": {
      "text/plain": [
       "['muestraTransientesCalcio_1.txt',\n",
       " 'muestraTransientesCalcio_raster2.pxp',\n",
       " 'muestraTransientesCalcio_raster1.txt',\n",
       " 'muestraTransientesCalcio_raster1.mat']"
      ]
     },
     "execution_count": 3,
     "metadata": {},
     "output_type": "execute_result"
    }
   ],
   "source": [
    "dataDir = \"./datosMuestra/\"\n",
    "dataFile = 'muestraTransientesCalcio_raster1.mat'\n",
    "os.listdir(dataDir)"
   ]
  },
  {
   "cell_type": "markdown",
   "metadata": {},
   "source": [
    "Abrimos el archivo"
   ]
  },
  {
   "cell_type": "code",
   "execution_count": 4,
   "metadata": {},
   "outputs": [],
   "source": [
    "data = sio.loadmat(dataDir+dataFile);"
   ]
  },
  {
   "cell_type": "markdown",
   "metadata": {},
   "source": [
    "Ahora exploramos el tipo de variable en el que se guardaron los datos y sus dimensiones"
   ]
  },
  {
   "cell_type": "code",
   "execution_count": 5,
   "metadata": {},
   "outputs": [
    {
     "data": {
      "text/plain": [
       "dict"
      ]
     },
     "execution_count": 5,
     "metadata": {},
     "output_type": "execute_result"
    }
   ],
   "source": [
    "type(data)"
   ]
  },
  {
   "cell_type": "markdown",
   "metadata": {},
   "source": [
    "Como los datos están guardados en un diccionario, vemos los campos del diccionario para encontrar las series de tiempo"
   ]
  },
  {
   "cell_type": "code",
   "execution_count": 6,
   "metadata": {},
   "outputs": [
    {
     "data": {
      "text/plain": [
       "['__version__', '__header__', 'Spikes', '__globals__']"
      ]
     },
     "execution_count": 6,
     "metadata": {},
     "output_type": "execute_result"
    }
   ],
   "source": [
    "data.keys()"
   ]
  },
  {
   "cell_type": "markdown",
   "metadata": {},
   "source": [
    "Exploramos los datos para ver las dimensiones de las series de tiempo dentro del campo 'Spikes'. Vemos que es un arreglo. "
   ]
  },
  {
   "cell_type": "code",
   "execution_count": 7,
   "metadata": {},
   "outputs": [
    {
     "name": "stdout",
     "output_type": "stream",
     "text": [
      "El campo 'Spikes' tiene una variable de tipo <type 'numpy.ndarray'>\n",
      "Las dimensiones del arreglo son:\n"
     ]
    },
    {
     "data": {
      "text/plain": [
       "(1960, 38)"
      ]
     },
     "execution_count": 7,
     "metadata": {},
     "output_type": "execute_result"
    }
   ],
   "source": [
    "print(\"El campo 'Spikes' tiene una variable de tipo %s\"%(type(data['Spikes'])))\n",
    "print('Las dimensiones del arreglo son:')\n",
    "sc.shape(data['Spikes'])"
   ]
  },
  {
   "cell_type": "markdown",
   "metadata": {},
   "source": [
    "Como la primera dimensión correspone al número de registros y la segunda dimensión corresponde con el número de células, guardamos los datos en un arreglo transpuesto para tener fácil acceso.  "
   ]
  },
  {
   "cell_type": "code",
   "execution_count": 8,
   "metadata": {},
   "outputs": [
    {
     "name": "stdout",
     "output_type": "stream",
     "text": [
      "Hay 38 células en Spikes\n",
      "[[0 0 0 ... 0 0 0]\n",
      " [0 0 0 ... 0 0 0]\n",
      " [0 0 0 ... 0 0 0]\n",
      " ...\n",
      " [0 0 0 ... 0 0 0]\n",
      " [0 0 0 ... 0 0 0]\n",
      " [0 0 0 ... 0 0 0]]\n"
     ]
    }
   ],
   "source": [
    "spikes= data['Spikes'].transpose()\n",
    "nCells = len(spikes)\n",
    "print('Hay %d células en Spikes'%nCells)\n",
    "print(spikes)"
   ]
  },
  {
   "cell_type": "markdown",
   "metadata": {},
   "source": [
    "Para asegurar que los valores son sólo 0 o 1"
   ]
  },
  {
   "cell_type": "code",
   "execution_count": 9,
   "metadata": {},
   "outputs": [
    {
     "name": "stdout",
     "output_type": "stream",
     "text": [
      "[0 1]\n"
     ]
    }
   ],
   "source": [
    "print(sc.unique(spikes))"
   ]
  },
  {
   "cell_type": "markdown",
   "metadata": {},
   "source": [
    "Exploremos los datos para ver disparos en algunas de las celulas "
   ]
  },
  {
   "cell_type": "code",
   "execution_count": 10,
   "metadata": {},
   "outputs": [
    {
     "name": "stdout",
     "output_type": "stream",
     "text": [
      "La célula 0 tiene 148 pulsos\n",
      "La célula 2 tiene 15 pulsos\n",
      "La célula 3 tiene 14 pulsos\n",
      "La célula 7 tiene 7 pulsos\n",
      "La célula 8 tiene 23 pulsos\n",
      "La célula 9 tiene 281 pulsos\n",
      "La célula 11 tiene 116 pulsos\n",
      "La célula 13 tiene 16 pulsos\n",
      "La célula 15 tiene 0 pulsos\n",
      "La célula 17 tiene 0 pulsos\n",
      "La célula 20 tiene 81 pulsos\n",
      "La célula 22 tiene 76 pulsos\n",
      "La célula 30 tiene 153 pulsos\n",
      "La célula 33 tiene 317 pulsos\n",
      "La célula 34 tiene 8 pulsos\n",
      "La célula 36 tiene 204 pulsos\n",
      "La célula 37 tiene 12 pulsos\n"
     ]
    }
   ],
   "source": [
    "for n in range(nCells):\n",
    "    if sc.rand()>0.5:\n",
    "        print('La célula %d tiene %d pulsos'%(n,spikes[n].sum()))"
   ]
  },
  {
   "cell_type": "markdown",
   "metadata": {},
   "source": [
    "Ahora grafiquemos los datos para ver un raster plot "
   ]
  },
  {
   "cell_type": "code",
   "execution_count": 11,
   "metadata": {},
   "outputs": [
    {
     "data": {
      "image/png": "[encoded data removed]",
      "text/plain": [
       "<Figure size 792x504 with 1 Axes>"
      ]
     },
     "metadata": {
      "needs_background": "light"
     },
     "output_type": "display_data"
    }
   ],
   "source": [
    "f=gr.figure(figsize=(11,7));\n",
    "gr.ioff()\n",
    "for n in range(nCells):\n",
    "    spikeInds = sc.where(spikes[n]==1)[0]\n",
    "    train=spikes[n][spikeInds]\n",
    "    gr.plot(spikeInds, (n+1)*sc.ones(len(train)),'|')\n",
    "gr.ylim(0,nCells+1)\n",
    "gr.ylabel('Celulas')\n",
    "gr.xlabel('Ventanas de registro')\n",
    "gr.ion(); gr.draw(); "
   ]
  },
  {
   "cell_type": "markdown",
   "metadata": {},
   "source": [
    "Ahora guardemos los datos en un arreglo de texto para poder tener acceso al registro en un formato más general (no comercial)"
   ]
  },
  {
   "cell_type": "code",
   "execution_count": 12,
   "metadata": {},
   "outputs": [
    {
     "name": "stdout",
     "output_type": "stream",
     "text": [
      "Guardando datos en archivo ./datosMuestra/muestraTransientesCalcio_raster1.txt\n"
     ]
    }
   ],
   "source": [
    "archTxt = dataFile[:-4]+'.txt'\n",
    "print('Guardando datos en archivo %s'%dataDir+archTxt)\n",
    "sc.savetxt(dataDir+archTxt, spikes, fmt='%g', delimiter=' ', newline='n', header='', footer='', comments='# ', encoding=None)"
   ]
  },
  {
   "cell_type": "markdown",
   "metadata": {},
   "source": [
    "Verificación de que los datos están donde queríamos"
   ]
  },
  {
   "cell_type": "code",
   "execution_count": 14,
   "metadata": {},
   "outputs": [
    {
     "data": {
      "text/plain": [
       "['.DS_Store',\n",
       " 'muestraTransientesCalcio_raster2.pxp',\n",
       " 'muestraTransientesCalcio_raster1.txt',\n",
       " 'muestraTransientesCalcio_raster1.mat']"
      ]
     },
     "execution_count": 14,
     "metadata": {},
     "output_type": "execute_result"
    }
   ],
   "source": [
    "os.listdir(dataDir)"
   ]
  }
 ],
 "metadata": {
  "kernelspec": {
   "display_name": "Python 3",
   "language": "python",
   "name": "python3"
  },
  "language_info": {
   "codemirror_mode": {
    "name": "ipython",
    "version": 3
   },
   "file_extension": ".py",
   "mimetype": "text/x-python",
   "name": "python",
   "nbconvert_exporter": "python",
   "pygments_lexer": "ipython3",
   "version": "3.8.1"
  }
 },
 "nbformat": 4,
 "nbformat_minor": 2
}
