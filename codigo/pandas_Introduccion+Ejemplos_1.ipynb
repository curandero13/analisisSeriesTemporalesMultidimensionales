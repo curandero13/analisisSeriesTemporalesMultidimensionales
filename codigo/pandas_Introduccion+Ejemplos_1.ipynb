{
 "cells": [
  {
   "cell_type": "markdown",
   "metadata": {},
   "source": [
    "# Introduccion al módulo pandas\n",
    "## Breve descripción y ejemplos. \n",
    "## Parte 1. Creación de cuadros de series y cuadros de datos  \n",
    "\n",
    "### Marco Arieli Herrera-Valdez$^1$\n",
    "#### $^1$ Laboratorio de Fisiología de Sistemas, Departamento de Matemáticas, Facultad de Ciencias, Universidad Nacional Autónoma de México\n",
    "\n",
    "(Basado en el tutorial https://pandas.pydata.org/pandas-docs/stable/getting_started/10min.html)\n"
   ]
  },
  {
   "cell_type": "markdown",
   "metadata": {},
   "source": [
    "Import "
   ]
  },
  {
   "cell_type": "code",
   "execution_count": 1,
   "metadata": {},
   "outputs": [],
   "source": [
    "import numpy as np\n",
    "import pandas as pd"
   ]
  },
  {
   "cell_type": "markdown",
   "metadata": {},
   "source": [
    "Creación de una serie pasando una lista de valores, con indexado automático en enteros"
   ]
  },
  {
   "cell_type": "code",
   "execution_count": 7,
   "metadata": {},
   "outputs": [
    {
     "name": "stdout",
     "output_type": "stream",
     "text": [
      "0        2\n",
      "1        4\n",
      "2        5\n",
      "3    np.pi\n",
      "4        3\n",
      "dtype: object\n"
     ]
    }
   ],
   "source": [
    "s = pd.Series([2,4,5,'np.pi',3])\n",
    "print(s)"
   ]
  },
  {
   "cell_type": "markdown",
   "metadata": {},
   "source": [
    "Arreglos de fechas en rango específico"
   ]
  },
  {
   "cell_type": "code",
   "execution_count": 48,
   "metadata": {},
   "outputs": [
    {
     "name": "stdout",
     "output_type": "stream",
     "text": [
      "DatetimeIndex(['2020-02-21', '2020-02-22', '2020-02-23', '2020-02-24',\n",
      "               '2020-02-25', '2020-02-26', '2020-02-27', '2020-02-28',\n",
      "               '2020-02-29', '2020-03-01', '2020-03-02', '2020-03-03',\n",
      "               '2020-03-04', '2020-03-05', '2020-03-06', '2020-03-07',\n",
      "               '2020-03-08'],\n",
      "              dtype='datetime64[ns]', freq='D')\n"
     ]
    }
   ],
   "source": [
    "n=17\n",
    "fechas = pd.date_range('20200221',periods=n)\n",
    "print(fechas)"
   ]
  },
  {
   "cell_type": "markdown",
   "metadata": {},
   "source": [
    "Creación de un cuadro de datos ('DataFrame') en el que los datos son un arreglo de NumPy, con fechas como índices de las filas, y columnas etiquetadas"
   ]
  },
  {
   "cell_type": "code",
   "execution_count": 49,
   "metadata": {},
   "outputs": [
    {
     "name": "stdout",
     "output_type": "stream",
     "text": [
      "                   A         B         C         D\n",
      "2020-02-21 -0.586041  0.663774 -1.622344  1.092950\n",
      "2020-02-22 -0.173809 -0.919900 -0.542429  1.439191\n",
      "2020-02-23 -0.669590  1.845015 -0.624577 -0.130137\n",
      "2020-02-24  0.976177  1.707507 -1.566449  1.471524\n",
      "2020-02-25 -0.458236 -0.805270 -0.651588 -0.017644\n",
      "2020-02-26 -0.236260 -1.197829  0.828102  1.540503\n",
      "2020-02-27  1.296408  0.013231 -1.069230  1.256078\n",
      "2020-02-28 -0.001822 -0.545049  0.847808  1.402061\n",
      "2020-02-29 -1.325373  1.135355  0.996185 -0.734947\n",
      "2020-03-01 -1.333509 -1.235313 -0.041608 -1.201182\n",
      "2020-03-02  0.596006  0.347821  1.525043  1.381117\n",
      "2020-03-03  0.759615  1.007199  0.664399 -0.571112\n",
      "2020-03-04  1.164883  1.022742 -0.818324  1.483369\n",
      "2020-03-05  1.142191 -1.948610  1.119062  0.147237\n",
      "2020-03-06 -0.706992 -0.913163 -0.054579 -0.830121\n",
      "2020-03-07  0.358952  0.675526 -1.300356 -2.441243\n",
      "2020-03-08 -0.363817 -0.440014 -0.872687 -1.120922\n"
     ]
    }
   ],
   "source": [
    "df= pd.DataFrame(np.random.randn(len(fechas),4),index=fechas,columns=list('ABCD'))\n",
    "print(df)"
   ]
  },
  {
   "cell_type": "markdown",
   "metadata": {},
   "source": [
    "Estampas de tiempo con etiqueta de fecha"
   ]
  },
  {
   "cell_type": "code",
   "execution_count": 50,
   "metadata": {},
   "outputs": [
    {
     "data": {
      "text/plain": [
       "Timestamp('2020-02-12 00:00:00')"
      ]
     },
     "execution_count": 50,
     "metadata": {},
     "output_type": "execute_result"
    }
   ],
   "source": [
    "pd.Timestamp('20200212')"
   ]
  },
  {
   "cell_type": "markdown",
   "metadata": {},
   "source": [
    "Arreglo categórico "
   ]
  },
  {
   "cell_type": "code",
   "execution_count": 51,
   "metadata": {},
   "outputs": [
    {
     "data": {
      "text/plain": [
       "[test, train, test, train]\n",
       "Categories (2, object): [test, train]"
      ]
     },
     "execution_count": 51,
     "metadata": {},
     "output_type": "execute_result"
    }
   ],
   "source": [
    "pd.Categorical([\"test\",\"train\",\"test\",\"train\"])"
   ]
  },
  {
   "cell_type": "markdown",
   "metadata": {},
   "source": [
    "Cuadro de datos generado a partir de un diccionario del que se pueden generar columnas de cada llave, y tal que se pueden ordenar los datos por sus dimensiones"
   ]
  },
  {
   "cell_type": "code",
   "execution_count": 52,
   "metadata": {},
   "outputs": [
    {
     "name": "stdout",
     "output_type": "stream",
     "text": [
      "     A          B    C  D      E    F\n",
      "0  1.0 2020-02-12  1.0  3   test  foo\n",
      "1  1.0 2020-02-12  1.0  3  train  foo\n",
      "2  1.0 2020-02-12  1.0  3   test  foo\n",
      "3  1.0 2020-02-12  1.0  3  train  foo\n"
     ]
    }
   ],
   "source": [
    "df2= pd.DataFrame({'A': 1.0,\n",
    "                  'B': pd.Timestamp('20200212'),\n",
    "                  'C': pd.Series(1,index=list(range(4)),dtype='float32'),\n",
    "                  'D': np.array([3]*4, dtype='int32'),\n",
    "                  'E': pd.Categorical([\"test\",\"train\",\"test\",\"train\"]),\n",
    "                  'F': 'foo'})\n",
    "print(df2)"
   ]
  },
  {
   "cell_type": "markdown",
   "metadata": {},
   "source": [
    "Los tipos de datos en las columnas son de distintos tipos "
   ]
  },
  {
   "cell_type": "code",
   "execution_count": 53,
   "metadata": {},
   "outputs": [
    {
     "data": {
      "text/plain": [
       "A           float64\n",
       "B    datetime64[ns]\n",
       "C           float32\n",
       "D             int32\n",
       "E          category\n",
       "F            object\n",
       "dtype: object"
      ]
     },
     "execution_count": 53,
     "metadata": {},
     "output_type": "execute_result"
    }
   ],
   "source": [
    "df2.dtypes"
   ]
  },
  {
   "cell_type": "markdown",
   "metadata": {},
   "source": [
    "Los nombres de las columnas y otros atributos dentro de un cuadro de datos se pueden obtener con una completación con la tecla tab si es una sesión de ipython"
   ]
  },
  {
   "cell_type": "markdown",
   "metadata": {},
   "source": [
    "### Visualización de datos"
   ]
  },
  {
   "cell_type": "code",
   "execution_count": 54,
   "metadata": {},
   "outputs": [
    {
     "data": {
      "text/html": [
       "<div>\n",
       "<style scoped>\n",
       "    .dataframe tbody tr th:only-of-type {\n",
       "        vertical-align: middle;\n",
       "    }\n",
       "\n",
       "    .dataframe tbody tr th {\n",
       "        vertical-align: top;\n",
       "    }\n",
       "\n",
       "    .dataframe thead th {\n",
       "        text-align: right;\n",
       "    }\n",
       "</style>\n",
       "<table border=\"1\" class=\"dataframe\">\n",
       "  <thead>\n",
       "    <tr style=\"text-align: right;\">\n",
       "      <th></th>\n",
       "      <th>A</th>\n",
       "      <th>B</th>\n",
       "      <th>C</th>\n",
       "      <th>D</th>\n",
       "    </tr>\n",
       "  </thead>\n",
       "  <tbody>\n",
       "    <tr>\n",
       "      <th>2020-02-21</th>\n",
       "      <td>-0.586041</td>\n",
       "      <td>0.663774</td>\n",
       "      <td>-1.622344</td>\n",
       "      <td>1.092950</td>\n",
       "    </tr>\n",
       "    <tr>\n",
       "      <th>2020-02-22</th>\n",
       "      <td>-0.173809</td>\n",
       "      <td>-0.919900</td>\n",
       "      <td>-0.542429</td>\n",
       "      <td>1.439191</td>\n",
       "    </tr>\n",
       "    <tr>\n",
       "      <th>2020-02-23</th>\n",
       "      <td>-0.669590</td>\n",
       "      <td>1.845015</td>\n",
       "      <td>-0.624577</td>\n",
       "      <td>-0.130137</td>\n",
       "    </tr>\n",
       "    <tr>\n",
       "      <th>2020-02-24</th>\n",
       "      <td>0.976177</td>\n",
       "      <td>1.707507</td>\n",
       "      <td>-1.566449</td>\n",
       "      <td>1.471524</td>\n",
       "    </tr>\n",
       "    <tr>\n",
       "      <th>2020-02-25</th>\n",
       "      <td>-0.458236</td>\n",
       "      <td>-0.805270</td>\n",
       "      <td>-0.651588</td>\n",
       "      <td>-0.017644</td>\n",
       "    </tr>\n",
       "  </tbody>\n",
       "</table>\n",
       "</div>"
      ],
      "text/plain": [
       "                   A         B         C         D\n",
       "2020-02-21 -0.586041  0.663774 -1.622344  1.092950\n",
       "2020-02-22 -0.173809 -0.919900 -0.542429  1.439191\n",
       "2020-02-23 -0.669590  1.845015 -0.624577 -0.130137\n",
       "2020-02-24  0.976177  1.707507 -1.566449  1.471524\n",
       "2020-02-25 -0.458236 -0.805270 -0.651588 -0.017644"
      ]
     },
     "execution_count": 54,
     "metadata": {},
     "output_type": "execute_result"
    }
   ],
   "source": [
    "df.head()"
   ]
  },
  {
   "cell_type": "code",
   "execution_count": 55,
   "metadata": {},
   "outputs": [
    {
     "data": {
      "text/html": [
       "<div>\n",
       "<style scoped>\n",
       "    .dataframe tbody tr th:only-of-type {\n",
       "        vertical-align: middle;\n",
       "    }\n",
       "\n",
       "    .dataframe tbody tr th {\n",
       "        vertical-align: top;\n",
       "    }\n",
       "\n",
       "    .dataframe thead th {\n",
       "        text-align: right;\n",
       "    }\n",
       "</style>\n",
       "<table border=\"1\" class=\"dataframe\">\n",
       "  <thead>\n",
       "    <tr style=\"text-align: right;\">\n",
       "      <th></th>\n",
       "      <th>A</th>\n",
       "      <th>B</th>\n",
       "      <th>C</th>\n",
       "      <th>D</th>\n",
       "    </tr>\n",
       "  </thead>\n",
       "  <tbody>\n",
       "    <tr>\n",
       "      <th>2020-03-06</th>\n",
       "      <td>-0.706992</td>\n",
       "      <td>-0.913163</td>\n",
       "      <td>-0.054579</td>\n",
       "      <td>-0.830121</td>\n",
       "    </tr>\n",
       "    <tr>\n",
       "      <th>2020-03-07</th>\n",
       "      <td>0.358952</td>\n",
       "      <td>0.675526</td>\n",
       "      <td>-1.300356</td>\n",
       "      <td>-2.441243</td>\n",
       "    </tr>\n",
       "    <tr>\n",
       "      <th>2020-03-08</th>\n",
       "      <td>-0.363817</td>\n",
       "      <td>-0.440014</td>\n",
       "      <td>-0.872687</td>\n",
       "      <td>-1.120922</td>\n",
       "    </tr>\n",
       "  </tbody>\n",
       "</table>\n",
       "</div>"
      ],
      "text/plain": [
       "                   A         B         C         D\n",
       "2020-03-06 -0.706992 -0.913163 -0.054579 -0.830121\n",
       "2020-03-07  0.358952  0.675526 -1.300356 -2.441243\n",
       "2020-03-08 -0.363817 -0.440014 -0.872687 -1.120922"
      ]
     },
     "execution_count": 55,
     "metadata": {},
     "output_type": "execute_result"
    }
   ],
   "source": [
    "df.tail(3)"
   ]
  },
  {
   "cell_type": "code",
   "execution_count": 56,
   "metadata": {},
   "outputs": [
    {
     "data": {
      "text/plain": [
       "DatetimeIndex(['2020-02-21', '2020-02-22', '2020-02-23', '2020-02-24',\n",
       "               '2020-02-25', '2020-02-26', '2020-02-27', '2020-02-28',\n",
       "               '2020-02-29', '2020-03-01', '2020-03-02', '2020-03-03',\n",
       "               '2020-03-04', '2020-03-05', '2020-03-06', '2020-03-07',\n",
       "               '2020-03-08'],\n",
       "              dtype='datetime64[ns]', freq='D')"
      ]
     },
     "execution_count": 56,
     "metadata": {},
     "output_type": "execute_result"
    }
   ],
   "source": [
    "df.index"
   ]
  },
  {
   "cell_type": "code",
   "execution_count": 57,
   "metadata": {},
   "outputs": [
    {
     "data": {
      "text/plain": [
       "Index(['A', 'B', 'C', 'D'], dtype='object')"
      ]
     },
     "execution_count": 57,
     "metadata": {},
     "output_type": "execute_result"
    }
   ],
   "source": [
    "df.columns"
   ]
  },
  {
   "cell_type": "markdown",
   "metadata": {},
   "source": [
    "### Conversión de datos"
   ]
  },
  {
   "cell_type": "markdown",
   "metadata": {},
   "source": [
    "DataFrame.to_numpy() regresa una representación de los datos en modo NumPy sin etiquetas de filas (index) ni columnas"
   ]
  },
  {
   "cell_type": "code",
   "execution_count": 58,
   "metadata": {},
   "outputs": [
    {
     "data": {
      "text/plain": [
       "array([[-5.86041163e-01,  6.63773508e-01, -1.62234396e+00,\n",
       "         1.09294991e+00],\n",
       "       [-1.73809231e-01, -9.19899505e-01, -5.42428975e-01,\n",
       "         1.43919115e+00],\n",
       "       [-6.69590218e-01,  1.84501458e+00, -6.24577215e-01,\n",
       "        -1.30137422e-01],\n",
       "       [ 9.76176665e-01,  1.70750724e+00, -1.56644870e+00,\n",
       "         1.47152388e+00],\n",
       "       [-4.58236326e-01, -8.05269595e-01, -6.51587940e-01,\n",
       "        -1.76444707e-02],\n",
       "       [-2.36260155e-01, -1.19782864e+00,  8.28102230e-01,\n",
       "         1.54050273e+00],\n",
       "       [ 1.29640758e+00,  1.32305992e-02, -1.06922992e+00,\n",
       "         1.25607777e+00],\n",
       "       [-1.82185528e-03, -5.45049332e-01,  8.47808071e-01,\n",
       "         1.40206104e+00],\n",
       "       [-1.32537263e+00,  1.13535467e+00,  9.96185352e-01,\n",
       "        -7.34946676e-01],\n",
       "       [-1.33350922e+00, -1.23531251e+00, -4.16084074e-02,\n",
       "        -1.20118182e+00],\n",
       "       [ 5.96006028e-01,  3.47820915e-01,  1.52504304e+00,\n",
       "         1.38111721e+00],\n",
       "       [ 7.59614732e-01,  1.00719862e+00,  6.64399249e-01,\n",
       "        -5.71111617e-01],\n",
       "       [ 1.16488324e+00,  1.02274169e+00, -8.18323536e-01,\n",
       "         1.48336860e+00],\n",
       "       [ 1.14219099e+00, -1.94861047e+00,  1.11906206e+00,\n",
       "         1.47236622e-01],\n",
       "       [-7.06992273e-01, -9.13162645e-01, -5.45793672e-02,\n",
       "        -8.30121253e-01],\n",
       "       [ 3.58952412e-01,  6.75526297e-01, -1.30035552e+00,\n",
       "        -2.44124253e+00],\n",
       "       [-3.63816825e-01, -4.40013921e-01, -8.72687268e-01,\n",
       "        -1.12092169e+00]])"
      ]
     },
     "execution_count": 58,
     "metadata": {},
     "output_type": "execute_result"
    }
   ],
   "source": [
    "df.to_numpy()"
   ]
  },
  {
   "cell_type": "code",
   "execution_count": 59,
   "metadata": {},
   "outputs": [
    {
     "data": {
      "text/plain": [
       "array([[1.0, Timestamp('2020-02-12 00:00:00'), 1.0, 3, 'test', 'foo'],\n",
       "       [1.0, Timestamp('2020-02-12 00:00:00'), 1.0, 3, 'train', 'foo'],\n",
       "       [1.0, Timestamp('2020-02-12 00:00:00'), 1.0, 3, 'test', 'foo'],\n",
       "       [1.0, Timestamp('2020-02-12 00:00:00'), 1.0, 3, 'train', 'foo']],\n",
       "      dtype=object)"
      ]
     },
     "execution_count": 59,
     "metadata": {},
     "output_type": "execute_result"
    }
   ],
   "source": [
    "df2.to_numpy()"
   ]
  },
  {
   "cell_type": "markdown",
   "metadata": {},
   "source": [
    "### Descripciones y re-arreglos de datos"
   ]
  },
  {
   "cell_type": "code",
   "execution_count": 60,
   "metadata": {},
   "outputs": [
    {
     "data": {
      "text/html": [
       "<div>\n",
       "<style scoped>\n",
       "    .dataframe tbody tr th:only-of-type {\n",
       "        vertical-align: middle;\n",
       "    }\n",
       "\n",
       "    .dataframe tbody tr th {\n",
       "        vertical-align: top;\n",
       "    }\n",
       "\n",
       "    .dataframe thead th {\n",
       "        text-align: right;\n",
       "    }\n",
       "</style>\n",
       "<table border=\"1\" class=\"dataframe\">\n",
       "  <thead>\n",
       "    <tr style=\"text-align: right;\">\n",
       "      <th></th>\n",
       "      <th>A</th>\n",
       "      <th>B</th>\n",
       "      <th>C</th>\n",
       "      <th>D</th>\n",
       "    </tr>\n",
       "  </thead>\n",
       "  <tbody>\n",
       "    <tr>\n",
       "      <th>count</th>\n",
       "      <td>17.000000</td>\n",
       "      <td>17.000000</td>\n",
       "      <td>17.000000</td>\n",
       "      <td>17.000000</td>\n",
       "    </tr>\n",
       "    <tr>\n",
       "      <th>mean</th>\n",
       "      <td>0.025811</td>\n",
       "      <td>0.024295</td>\n",
       "      <td>-0.187269</td>\n",
       "      <td>0.245101</td>\n",
       "    </tr>\n",
       "    <tr>\n",
       "      <th>std</th>\n",
       "      <td>0.851461</td>\n",
       "      <td>1.125119</td>\n",
       "      <td>1.008867</td>\n",
       "      <td>1.242169</td>\n",
       "    </tr>\n",
       "    <tr>\n",
       "      <th>min</th>\n",
       "      <td>-1.333509</td>\n",
       "      <td>-1.948610</td>\n",
       "      <td>-1.622344</td>\n",
       "      <td>-2.441243</td>\n",
       "    </tr>\n",
       "    <tr>\n",
       "      <th>25%</th>\n",
       "      <td>-0.586041</td>\n",
       "      <td>-0.913163</td>\n",
       "      <td>-0.872687</td>\n",
       "      <td>-0.734947</td>\n",
       "    </tr>\n",
       "    <tr>\n",
       "      <th>50%</th>\n",
       "      <td>-0.173809</td>\n",
       "      <td>0.013231</td>\n",
       "      <td>-0.542429</td>\n",
       "      <td>0.147237</td>\n",
       "    </tr>\n",
       "    <tr>\n",
       "      <th>75%</th>\n",
       "      <td>0.759615</td>\n",
       "      <td>1.007199</td>\n",
       "      <td>0.828102</td>\n",
       "      <td>1.402061</td>\n",
       "    </tr>\n",
       "    <tr>\n",
       "      <th>max</th>\n",
       "      <td>1.296408</td>\n",
       "      <td>1.845015</td>\n",
       "      <td>1.525043</td>\n",
       "      <td>1.540503</td>\n",
       "    </tr>\n",
       "  </tbody>\n",
       "</table>\n",
       "</div>"
      ],
      "text/plain": [
       "               A          B          C          D\n",
       "count  17.000000  17.000000  17.000000  17.000000\n",
       "mean    0.025811   0.024295  -0.187269   0.245101\n",
       "std     0.851461   1.125119   1.008867   1.242169\n",
       "min    -1.333509  -1.948610  -1.622344  -2.441243\n",
       "25%    -0.586041  -0.913163  -0.872687  -0.734947\n",
       "50%    -0.173809   0.013231  -0.542429   0.147237\n",
       "75%     0.759615   1.007199   0.828102   1.402061\n",
       "max     1.296408   1.845015   1.525043   1.540503"
      ]
     },
     "execution_count": 60,
     "metadata": {},
     "output_type": "execute_result"
    }
   ],
   "source": [
    "df.describe()"
   ]
  },
  {
   "cell_type": "markdown",
   "metadata": {},
   "source": [
    "Transponiendo un cuadro de datos"
   ]
  },
  {
   "cell_type": "code",
   "execution_count": 61,
   "metadata": {},
   "outputs": [
    {
     "data": {
      "text/html": [
       "<div>\n",
       "<style scoped>\n",
       "    .dataframe tbody tr th:only-of-type {\n",
       "        vertical-align: middle;\n",
       "    }\n",
       "\n",
       "    .dataframe tbody tr th {\n",
       "        vertical-align: top;\n",
       "    }\n",
       "\n",
       "    .dataframe thead th {\n",
       "        text-align: right;\n",
       "    }\n",
       "</style>\n",
       "<table border=\"1\" class=\"dataframe\">\n",
       "  <thead>\n",
       "    <tr style=\"text-align: right;\">\n",
       "      <th></th>\n",
       "      <th>2020-02-21</th>\n",
       "      <th>2020-02-22</th>\n",
       "      <th>2020-02-23</th>\n",
       "      <th>2020-02-24</th>\n",
       "      <th>2020-02-25</th>\n",
       "      <th>2020-02-26</th>\n",
       "      <th>2020-02-27</th>\n",
       "      <th>2020-02-28</th>\n",
       "      <th>2020-02-29</th>\n",
       "      <th>2020-03-01</th>\n",
       "      <th>2020-03-02</th>\n",
       "      <th>2020-03-03</th>\n",
       "      <th>2020-03-04</th>\n",
       "      <th>2020-03-05</th>\n",
       "      <th>2020-03-06</th>\n",
       "      <th>2020-03-07</th>\n",
       "      <th>2020-03-08</th>\n",
       "    </tr>\n",
       "  </thead>\n",
       "  <tbody>\n",
       "    <tr>\n",
       "      <th>A</th>\n",
       "      <td>-0.586041</td>\n",
       "      <td>-0.173809</td>\n",
       "      <td>-0.669590</td>\n",
       "      <td>0.976177</td>\n",
       "      <td>-0.458236</td>\n",
       "      <td>-0.236260</td>\n",
       "      <td>1.296408</td>\n",
       "      <td>-0.001822</td>\n",
       "      <td>-1.325373</td>\n",
       "      <td>-1.333509</td>\n",
       "      <td>0.596006</td>\n",
       "      <td>0.759615</td>\n",
       "      <td>1.164883</td>\n",
       "      <td>1.142191</td>\n",
       "      <td>-0.706992</td>\n",
       "      <td>0.358952</td>\n",
       "      <td>-0.363817</td>\n",
       "    </tr>\n",
       "    <tr>\n",
       "      <th>B</th>\n",
       "      <td>0.663774</td>\n",
       "      <td>-0.919900</td>\n",
       "      <td>1.845015</td>\n",
       "      <td>1.707507</td>\n",
       "      <td>-0.805270</td>\n",
       "      <td>-1.197829</td>\n",
       "      <td>0.013231</td>\n",
       "      <td>-0.545049</td>\n",
       "      <td>1.135355</td>\n",
       "      <td>-1.235313</td>\n",
       "      <td>0.347821</td>\n",
       "      <td>1.007199</td>\n",
       "      <td>1.022742</td>\n",
       "      <td>-1.948610</td>\n",
       "      <td>-0.913163</td>\n",
       "      <td>0.675526</td>\n",
       "      <td>-0.440014</td>\n",
       "    </tr>\n",
       "    <tr>\n",
       "      <th>C</th>\n",
       "      <td>-1.622344</td>\n",
       "      <td>-0.542429</td>\n",
       "      <td>-0.624577</td>\n",
       "      <td>-1.566449</td>\n",
       "      <td>-0.651588</td>\n",
       "      <td>0.828102</td>\n",
       "      <td>-1.069230</td>\n",
       "      <td>0.847808</td>\n",
       "      <td>0.996185</td>\n",
       "      <td>-0.041608</td>\n",
       "      <td>1.525043</td>\n",
       "      <td>0.664399</td>\n",
       "      <td>-0.818324</td>\n",
       "      <td>1.119062</td>\n",
       "      <td>-0.054579</td>\n",
       "      <td>-1.300356</td>\n",
       "      <td>-0.872687</td>\n",
       "    </tr>\n",
       "    <tr>\n",
       "      <th>D</th>\n",
       "      <td>1.092950</td>\n",
       "      <td>1.439191</td>\n",
       "      <td>-0.130137</td>\n",
       "      <td>1.471524</td>\n",
       "      <td>-0.017644</td>\n",
       "      <td>1.540503</td>\n",
       "      <td>1.256078</td>\n",
       "      <td>1.402061</td>\n",
       "      <td>-0.734947</td>\n",
       "      <td>-1.201182</td>\n",
       "      <td>1.381117</td>\n",
       "      <td>-0.571112</td>\n",
       "      <td>1.483369</td>\n",
       "      <td>0.147237</td>\n",
       "      <td>-0.830121</td>\n",
       "      <td>-2.441243</td>\n",
       "      <td>-1.120922</td>\n",
       "    </tr>\n",
       "  </tbody>\n",
       "</table>\n",
       "</div>"
      ],
      "text/plain": [
       "   2020-02-21  2020-02-22  2020-02-23  2020-02-24  2020-02-25  2020-02-26  \\\n",
       "A   -0.586041   -0.173809   -0.669590    0.976177   -0.458236   -0.236260   \n",
       "B    0.663774   -0.919900    1.845015    1.707507   -0.805270   -1.197829   \n",
       "C   -1.622344   -0.542429   -0.624577   -1.566449   -0.651588    0.828102   \n",
       "D    1.092950    1.439191   -0.130137    1.471524   -0.017644    1.540503   \n",
       "\n",
       "   2020-02-27  2020-02-28  2020-02-29  2020-03-01  2020-03-02  2020-03-03  \\\n",
       "A    1.296408   -0.001822   -1.325373   -1.333509    0.596006    0.759615   \n",
       "B    0.013231   -0.545049    1.135355   -1.235313    0.347821    1.007199   \n",
       "C   -1.069230    0.847808    0.996185   -0.041608    1.525043    0.664399   \n",
       "D    1.256078    1.402061   -0.734947   -1.201182    1.381117   -0.571112   \n",
       "\n",
       "   2020-03-04  2020-03-05  2020-03-06  2020-03-07  2020-03-08  \n",
       "A    1.164883    1.142191   -0.706992    0.358952   -0.363817  \n",
       "B    1.022742   -1.948610   -0.913163    0.675526   -0.440014  \n",
       "C   -0.818324    1.119062   -0.054579   -1.300356   -0.872687  \n",
       "D    1.483369    0.147237   -0.830121   -2.441243   -1.120922  "
      ]
     },
     "execution_count": 61,
     "metadata": {},
     "output_type": "execute_result"
    }
   ],
   "source": [
    "df.T"
   ]
  },
  {
   "cell_type": "markdown",
   "metadata": {},
   "source": [
    "Un cuadro de datos puede ser ordenado con respecto a dimensiones, en distintos órdenes, y tomando en cuenta criterios específicos, como ordenamientos relativos a los valores de una columna "
   ]
  },
  {
   "cell_type": "code",
   "execution_count": 62,
   "metadata": {},
   "outputs": [
    {
     "data": {
      "text/html": [
       "<div>\n",
       "<style scoped>\n",
       "    .dataframe tbody tr th:only-of-type {\n",
       "        vertical-align: middle;\n",
       "    }\n",
       "\n",
       "    .dataframe tbody tr th {\n",
       "        vertical-align: top;\n",
       "    }\n",
       "\n",
       "    .dataframe thead th {\n",
       "        text-align: right;\n",
       "    }\n",
       "</style>\n",
       "<table border=\"1\" class=\"dataframe\">\n",
       "  <thead>\n",
       "    <tr style=\"text-align: right;\">\n",
       "      <th></th>\n",
       "      <th>D</th>\n",
       "      <th>C</th>\n",
       "      <th>B</th>\n",
       "      <th>A</th>\n",
       "    </tr>\n",
       "  </thead>\n",
       "  <tbody>\n",
       "    <tr>\n",
       "      <th>2020-02-21</th>\n",
       "      <td>1.092950</td>\n",
       "      <td>-1.622344</td>\n",
       "      <td>0.663774</td>\n",
       "      <td>-0.586041</td>\n",
       "    </tr>\n",
       "    <tr>\n",
       "      <th>2020-02-22</th>\n",
       "      <td>1.439191</td>\n",
       "      <td>-0.542429</td>\n",
       "      <td>-0.919900</td>\n",
       "      <td>-0.173809</td>\n",
       "    </tr>\n",
       "    <tr>\n",
       "      <th>2020-02-23</th>\n",
       "      <td>-0.130137</td>\n",
       "      <td>-0.624577</td>\n",
       "      <td>1.845015</td>\n",
       "      <td>-0.669590</td>\n",
       "    </tr>\n",
       "    <tr>\n",
       "      <th>2020-02-24</th>\n",
       "      <td>1.471524</td>\n",
       "      <td>-1.566449</td>\n",
       "      <td>1.707507</td>\n",
       "      <td>0.976177</td>\n",
       "    </tr>\n",
       "    <tr>\n",
       "      <th>2020-02-25</th>\n",
       "      <td>-0.017644</td>\n",
       "      <td>-0.651588</td>\n",
       "      <td>-0.805270</td>\n",
       "      <td>-0.458236</td>\n",
       "    </tr>\n",
       "    <tr>\n",
       "      <th>2020-02-26</th>\n",
       "      <td>1.540503</td>\n",
       "      <td>0.828102</td>\n",
       "      <td>-1.197829</td>\n",
       "      <td>-0.236260</td>\n",
       "    </tr>\n",
       "    <tr>\n",
       "      <th>2020-02-27</th>\n",
       "      <td>1.256078</td>\n",
       "      <td>-1.069230</td>\n",
       "      <td>0.013231</td>\n",
       "      <td>1.296408</td>\n",
       "    </tr>\n",
       "    <tr>\n",
       "      <th>2020-02-28</th>\n",
       "      <td>1.402061</td>\n",
       "      <td>0.847808</td>\n",
       "      <td>-0.545049</td>\n",
       "      <td>-0.001822</td>\n",
       "    </tr>\n",
       "    <tr>\n",
       "      <th>2020-02-29</th>\n",
       "      <td>-0.734947</td>\n",
       "      <td>0.996185</td>\n",
       "      <td>1.135355</td>\n",
       "      <td>-1.325373</td>\n",
       "    </tr>\n",
       "    <tr>\n",
       "      <th>2020-03-01</th>\n",
       "      <td>-1.201182</td>\n",
       "      <td>-0.041608</td>\n",
       "      <td>-1.235313</td>\n",
       "      <td>-1.333509</td>\n",
       "    </tr>\n",
       "    <tr>\n",
       "      <th>2020-03-02</th>\n",
       "      <td>1.381117</td>\n",
       "      <td>1.525043</td>\n",
       "      <td>0.347821</td>\n",
       "      <td>0.596006</td>\n",
       "    </tr>\n",
       "    <tr>\n",
       "      <th>2020-03-03</th>\n",
       "      <td>-0.571112</td>\n",
       "      <td>0.664399</td>\n",
       "      <td>1.007199</td>\n",
       "      <td>0.759615</td>\n",
       "    </tr>\n",
       "    <tr>\n",
       "      <th>2020-03-04</th>\n",
       "      <td>1.483369</td>\n",
       "      <td>-0.818324</td>\n",
       "      <td>1.022742</td>\n",
       "      <td>1.164883</td>\n",
       "    </tr>\n",
       "    <tr>\n",
       "      <th>2020-03-05</th>\n",
       "      <td>0.147237</td>\n",
       "      <td>1.119062</td>\n",
       "      <td>-1.948610</td>\n",
       "      <td>1.142191</td>\n",
       "    </tr>\n",
       "    <tr>\n",
       "      <th>2020-03-06</th>\n",
       "      <td>-0.830121</td>\n",
       "      <td>-0.054579</td>\n",
       "      <td>-0.913163</td>\n",
       "      <td>-0.706992</td>\n",
       "    </tr>\n",
       "    <tr>\n",
       "      <th>2020-03-07</th>\n",
       "      <td>-2.441243</td>\n",
       "      <td>-1.300356</td>\n",
       "      <td>0.675526</td>\n",
       "      <td>0.358952</td>\n",
       "    </tr>\n",
       "    <tr>\n",
       "      <th>2020-03-08</th>\n",
       "      <td>-1.120922</td>\n",
       "      <td>-0.872687</td>\n",
       "      <td>-0.440014</td>\n",
       "      <td>-0.363817</td>\n",
       "    </tr>\n",
       "  </tbody>\n",
       "</table>\n",
       "</div>"
      ],
      "text/plain": [
       "                   D         C         B         A\n",
       "2020-02-21  1.092950 -1.622344  0.663774 -0.586041\n",
       "2020-02-22  1.439191 -0.542429 -0.919900 -0.173809\n",
       "2020-02-23 -0.130137 -0.624577  1.845015 -0.669590\n",
       "2020-02-24  1.471524 -1.566449  1.707507  0.976177\n",
       "2020-02-25 -0.017644 -0.651588 -0.805270 -0.458236\n",
       "2020-02-26  1.540503  0.828102 -1.197829 -0.236260\n",
       "2020-02-27  1.256078 -1.069230  0.013231  1.296408\n",
       "2020-02-28  1.402061  0.847808 -0.545049 -0.001822\n",
       "2020-02-29 -0.734947  0.996185  1.135355 -1.325373\n",
       "2020-03-01 -1.201182 -0.041608 -1.235313 -1.333509\n",
       "2020-03-02  1.381117  1.525043  0.347821  0.596006\n",
       "2020-03-03 -0.571112  0.664399  1.007199  0.759615\n",
       "2020-03-04  1.483369 -0.818324  1.022742  1.164883\n",
       "2020-03-05  0.147237  1.119062 -1.948610  1.142191\n",
       "2020-03-06 -0.830121 -0.054579 -0.913163 -0.706992\n",
       "2020-03-07 -2.441243 -1.300356  0.675526  0.358952\n",
       "2020-03-08 -1.120922 -0.872687 -0.440014 -0.363817"
      ]
     },
     "execution_count": 62,
     "metadata": {},
     "output_type": "execute_result"
    }
   ],
   "source": [
    "df.sort_index(axis=1,ascending=False)"
   ]
  },
  {
   "cell_type": "code",
   "execution_count": 63,
   "metadata": {},
   "outputs": [
    {
     "data": {
      "text/html": [
       "<div>\n",
       "<style scoped>\n",
       "    .dataframe tbody tr th:only-of-type {\n",
       "        vertical-align: middle;\n",
       "    }\n",
       "\n",
       "    .dataframe tbody tr th {\n",
       "        vertical-align: top;\n",
       "    }\n",
       "\n",
       "    .dataframe thead th {\n",
       "        text-align: right;\n",
       "    }\n",
       "</style>\n",
       "<table border=\"1\" class=\"dataframe\">\n",
       "  <thead>\n",
       "    <tr style=\"text-align: right;\">\n",
       "      <th></th>\n",
       "      <th>A</th>\n",
       "      <th>B</th>\n",
       "      <th>C</th>\n",
       "      <th>D</th>\n",
       "    </tr>\n",
       "  </thead>\n",
       "  <tbody>\n",
       "    <tr>\n",
       "      <th>2020-03-05</th>\n",
       "      <td>1.142191</td>\n",
       "      <td>-1.948610</td>\n",
       "      <td>1.119062</td>\n",
       "      <td>0.147237</td>\n",
       "    </tr>\n",
       "    <tr>\n",
       "      <th>2020-03-01</th>\n",
       "      <td>-1.333509</td>\n",
       "      <td>-1.235313</td>\n",
       "      <td>-0.041608</td>\n",
       "      <td>-1.201182</td>\n",
       "    </tr>\n",
       "    <tr>\n",
       "      <th>2020-02-26</th>\n",
       "      <td>-0.236260</td>\n",
       "      <td>-1.197829</td>\n",
       "      <td>0.828102</td>\n",
       "      <td>1.540503</td>\n",
       "    </tr>\n",
       "    <tr>\n",
       "      <th>2020-02-22</th>\n",
       "      <td>-0.173809</td>\n",
       "      <td>-0.919900</td>\n",
       "      <td>-0.542429</td>\n",
       "      <td>1.439191</td>\n",
       "    </tr>\n",
       "    <tr>\n",
       "      <th>2020-03-06</th>\n",
       "      <td>-0.706992</td>\n",
       "      <td>-0.913163</td>\n",
       "      <td>-0.054579</td>\n",
       "      <td>-0.830121</td>\n",
       "    </tr>\n",
       "    <tr>\n",
       "      <th>2020-02-25</th>\n",
       "      <td>-0.458236</td>\n",
       "      <td>-0.805270</td>\n",
       "      <td>-0.651588</td>\n",
       "      <td>-0.017644</td>\n",
       "    </tr>\n",
       "    <tr>\n",
       "      <th>2020-02-28</th>\n",
       "      <td>-0.001822</td>\n",
       "      <td>-0.545049</td>\n",
       "      <td>0.847808</td>\n",
       "      <td>1.402061</td>\n",
       "    </tr>\n",
       "    <tr>\n",
       "      <th>2020-03-08</th>\n",
       "      <td>-0.363817</td>\n",
       "      <td>-0.440014</td>\n",
       "      <td>-0.872687</td>\n",
       "      <td>-1.120922</td>\n",
       "    </tr>\n",
       "    <tr>\n",
       "      <th>2020-02-27</th>\n",
       "      <td>1.296408</td>\n",
       "      <td>0.013231</td>\n",
       "      <td>-1.069230</td>\n",
       "      <td>1.256078</td>\n",
       "    </tr>\n",
       "    <tr>\n",
       "      <th>2020-03-02</th>\n",
       "      <td>0.596006</td>\n",
       "      <td>0.347821</td>\n",
       "      <td>1.525043</td>\n",
       "      <td>1.381117</td>\n",
       "    </tr>\n",
       "    <tr>\n",
       "      <th>2020-02-21</th>\n",
       "      <td>-0.586041</td>\n",
       "      <td>0.663774</td>\n",
       "      <td>-1.622344</td>\n",
       "      <td>1.092950</td>\n",
       "    </tr>\n",
       "    <tr>\n",
       "      <th>2020-03-07</th>\n",
       "      <td>0.358952</td>\n",
       "      <td>0.675526</td>\n",
       "      <td>-1.300356</td>\n",
       "      <td>-2.441243</td>\n",
       "    </tr>\n",
       "    <tr>\n",
       "      <th>2020-03-03</th>\n",
       "      <td>0.759615</td>\n",
       "      <td>1.007199</td>\n",
       "      <td>0.664399</td>\n",
       "      <td>-0.571112</td>\n",
       "    </tr>\n",
       "    <tr>\n",
       "      <th>2020-03-04</th>\n",
       "      <td>1.164883</td>\n",
       "      <td>1.022742</td>\n",
       "      <td>-0.818324</td>\n",
       "      <td>1.483369</td>\n",
       "    </tr>\n",
       "    <tr>\n",
       "      <th>2020-02-29</th>\n",
       "      <td>-1.325373</td>\n",
       "      <td>1.135355</td>\n",
       "      <td>0.996185</td>\n",
       "      <td>-0.734947</td>\n",
       "    </tr>\n",
       "    <tr>\n",
       "      <th>2020-02-24</th>\n",
       "      <td>0.976177</td>\n",
       "      <td>1.707507</td>\n",
       "      <td>-1.566449</td>\n",
       "      <td>1.471524</td>\n",
       "    </tr>\n",
       "    <tr>\n",
       "      <th>2020-02-23</th>\n",
       "      <td>-0.669590</td>\n",
       "      <td>1.845015</td>\n",
       "      <td>-0.624577</td>\n",
       "      <td>-0.130137</td>\n",
       "    </tr>\n",
       "  </tbody>\n",
       "</table>\n",
       "</div>"
      ],
      "text/plain": [
       "                   A         B         C         D\n",
       "2020-03-05  1.142191 -1.948610  1.119062  0.147237\n",
       "2020-03-01 -1.333509 -1.235313 -0.041608 -1.201182\n",
       "2020-02-26 -0.236260 -1.197829  0.828102  1.540503\n",
       "2020-02-22 -0.173809 -0.919900 -0.542429  1.439191\n",
       "2020-03-06 -0.706992 -0.913163 -0.054579 -0.830121\n",
       "2020-02-25 -0.458236 -0.805270 -0.651588 -0.017644\n",
       "2020-02-28 -0.001822 -0.545049  0.847808  1.402061\n",
       "2020-03-08 -0.363817 -0.440014 -0.872687 -1.120922\n",
       "2020-02-27  1.296408  0.013231 -1.069230  1.256078\n",
       "2020-03-02  0.596006  0.347821  1.525043  1.381117\n",
       "2020-02-21 -0.586041  0.663774 -1.622344  1.092950\n",
       "2020-03-07  0.358952  0.675526 -1.300356 -2.441243\n",
       "2020-03-03  0.759615  1.007199  0.664399 -0.571112\n",
       "2020-03-04  1.164883  1.022742 -0.818324  1.483369\n",
       "2020-02-29 -1.325373  1.135355  0.996185 -0.734947\n",
       "2020-02-24  0.976177  1.707507 -1.566449  1.471524\n",
       "2020-02-23 -0.669590  1.845015 -0.624577 -0.130137"
      ]
     },
     "execution_count": 63,
     "metadata": {},
     "output_type": "execute_result"
    }
   ],
   "source": [
    "df.sort_values(by='B')"
   ]
  },
  {
   "cell_type": "code",
   "execution_count": null,
   "metadata": {},
   "outputs": [],
   "source": []
  }
 ],
 "metadata": {
  "kernelspec": {
   "display_name": "Python 3",
   "language": "python",
   "name": "python3"
  },
  "language_info": {
   "codemirror_mode": {
    "name": "ipython",
    "version": 3
   },
   "file_extension": ".py",
   "mimetype": "text/x-python",
   "name": "python",
   "nbconvert_exporter": "python",
   "pygments_lexer": "ipython3",
   "version": "3.8.1"
  }
 },
 "nbformat": 4,
 "nbformat_minor": 4
}
