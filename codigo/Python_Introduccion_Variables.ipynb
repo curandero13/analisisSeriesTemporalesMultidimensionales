{
 "cells": [
  {
   "cell_type": "markdown",
   "metadata": {},
   "source": [
    "# Principios básicos de python\n",
    "## Variables y operaciones básicas\n",
    "### Marco Arieli Herrera-Valdez$^1$\n",
    "#### $^1$Laboratorio de Fisiología de Sistemas, Facultad de Ciencias, UNAM\n",
    "\n",
    "Ultima actualización: Diciembre 31, 2019"
   ]
  },
  {
   "cell_type": "markdown",
   "metadata": {},
   "source": [
    "Este tutorial está dividido en partes que cubren los aspectos básicos de programación en python. En esta parte, cubriremos la generación de variables y operaciones simples entre ellas. "
   ]
  },
  {
   "cell_type": "markdown",
   "metadata": {},
   "source": [
    "#### Definición de variables \n",
    "Los comentarios se escriben con un signo de número."
   ]
  },
  {
   "cell_type": "code",
   "execution_count": 1,
   "metadata": {},
   "outputs": [
    {
     "name": "stdout",
     "output_type": "stream",
     "text": [
      "\n",
      "Es posible escribir más comandos en una sola linea separando con ';' \n",
      "y más texto con \"'''\"\n",
      "\n"
     ]
    }
   ],
   "source": [
    "# variables numericas\n",
    "m=13; n9 = 23; \n",
    "# Caracteres\n",
    "# Es posible escribir más comandos en una sola linea separando con \";\"\n",
    "carac = 'a'; cArAc= \"b\";  \n",
    "# Cadenas de caracteres\n",
    "apellido = 'Perez'; \n",
    "nombre = \"Juan\"; \n",
    "# Frases multilinea\n",
    "frase=\"\"\"\n",
    "Es posible escribir más comandos en una sola linea separando con ';' \n",
    "y más texto con \"'''\"\n",
    "\"\"\"\n",
    "print(frase)"
   ]
  },
  {
   "cell_type": "code",
   "execution_count": 2,
   "metadata": {},
   "outputs": [],
   "source": [
    "# lista, los elementos pueden cambiar, pueden ser variables de cualquier tipo\n",
    "lista1 = [apellido, nombre, n9, 3]; \n",
    "# diccionario, los elementos son pares, pueden cambiar, los valores pueden ser variables de cualquier tipo \n",
    "pp = {'lis':[\"c\",\"d\"],'v':34} \n",
    "# tupla, en las tuplas no se pueden cambiar los elementos\n",
    "tu = ('3d',nombre) \n",
    "# conjunto\n",
    "conj = {apellido,nombre} \n",
    "# booleanas\n",
    "cheque1 = True\n",
    "cheque2 = False"
   ]
  },
  {
   "cell_type": "markdown",
   "metadata": {},
   "source": [
    "#### Impresion de variables"
   ]
  },
  {
   "cell_type": "code",
   "execution_count": 3,
   "metadata": {},
   "outputs": [
    {
     "name": "stdout",
     "output_type": "stream",
     "text": [
      "Juan\n"
     ]
    },
    {
     "ename": "NameError",
     "evalue": "name 'lista' is not defined",
     "output_type": "error",
     "traceback": [
      "\u001b[0;31m---------------------------------------------------------------------------\u001b[0m",
      "\u001b[0;31mNameError\u001b[0m                                 Traceback (most recent call last)",
      "\u001b[0;32m<ipython-input-3-946ead8cc62a>\u001b[0m in \u001b[0;36m<module>\u001b[0;34m()\u001b[0m\n\u001b[1;32m      1\u001b[0m \u001b[0;32mprint\u001b[0m\u001b[0;34m(\u001b[0m\u001b[0mnombre\u001b[0m\u001b[0;34m)\u001b[0m\u001b[0;34m\u001b[0m\u001b[0m\n\u001b[0;32m----> 2\u001b[0;31m \u001b[0;32mprint\u001b[0m\u001b[0;34m(\u001b[0m\u001b[0mlista\u001b[0m\u001b[0;34m)\u001b[0m\u001b[0;34m\u001b[0m\u001b[0m\n\u001b[0m\u001b[1;32m      3\u001b[0m \u001b[0;32mprint\u001b[0m\u001b[0;34m(\u001b[0m\u001b[0mtu\u001b[0m\u001b[0;34m)\u001b[0m\u001b[0;34m\u001b[0m\u001b[0m\n\u001b[1;32m      4\u001b[0m \u001b[0;32mprint\u001b[0m\u001b[0;34m(\u001b[0m\u001b[0mconj\u001b[0m\u001b[0;34m)\u001b[0m\u001b[0;34m\u001b[0m\u001b[0m\n",
      "\u001b[0;31mNameError\u001b[0m: name 'lista' is not defined"
     ]
    }
   ],
   "source": [
    "print(nombre)\n",
    "print(lista)\n",
    "print(tu)\n",
    "print(conj)"
   ]
  },
  {
   "cell_type": "markdown",
   "metadata": {},
   "source": [
    "En diccionarios"
   ]
  },
  {
   "cell_type": "code",
   "execution_count": null,
   "metadata": {},
   "outputs": [],
   "source": [
    "print('llaves',pp.keys())\n",
    "print('valores',pp.values())\n",
    "print('elementos',pp.items())\n",
    "print(pp)"
   ]
  },
  {
   "cell_type": "markdown",
   "metadata": {},
   "source": [
    "#### Impresión con formato"
   ]
  },
  {
   "cell_type": "code",
   "execution_count": null,
   "metadata": {},
   "outputs": [],
   "source": [
    "print('El noveno primo es %d'%n9) #Enteros\n",
    "print('El formato float de 6 dígitos (default) de n9+0.13 es %f'%(n9+0.13)) #Flotante\n",
    "print('El formato flotante corto de 3.1415 %g'%3.1415) #Flotante acortado \n",
    "print('El nombre del elemento %d es %s'%(m,nombre)) #Cadena de caracteres"
   ]
  },
  {
   "cell_type": "markdown",
   "metadata": {},
   "source": [
    "#### Operaciones básicas \n",
    "Note que la variable a es reciclada para fines del ejemplo"
   ]
  },
  {
   "cell_type": "code",
   "execution_count": null,
   "metadata": {},
   "outputs": [],
   "source": [
    "# Sumas\n",
    "print(\"Sumas:\")\n",
    "a= m + n9, m+n9 * 2; \n",
    "print(a)"
   ]
  },
  {
   "cell_type": "code",
   "execution_count": null,
   "metadata": {},
   "outputs": [],
   "source": [
    "a= carac+cArAc; print(a)\n",
    "a= nombre + ' '+apellido; print(a)\n",
    "a= lista1+ ['4d','x']; print(a)"
   ]
  },
  {
   "cell_type": "code",
   "execution_count": null,
   "metadata": {},
   "outputs": [],
   "source": [
    "# Conjunciones\n",
    "print(\"Conjunciones:\")\n",
    "a= cheque1 & True; print(a)\n",
    "a= cheque1 and True; print(a)\n",
    "a= cheque2 | False; print(a)\n",
    "a= cheque2 or False; print(a)"
   ]
  },
  {
   "cell_type": "markdown",
   "metadata": {},
   "source": [
    "Multiplicacion en listas es equivalente a repetir listas"
   ]
  },
  {
   "cell_type": "code",
   "execution_count": null,
   "metadata": {},
   "outputs": [],
   "source": [
    "2* lista1"
   ]
  },
  {
   "cell_type": "markdown",
   "metadata": {},
   "source": [
    "#### Indices y listas"
   ]
  },
  {
   "cell_type": "code",
   "execution_count": null,
   "metadata": {},
   "outputs": [],
   "source": [
    "# Las listas pueden tener variables de distintos tipos\n",
    "lista = [apellido, nombre, n9, 3] \n",
    "print(lista[0])\n",
    "print(lista[1:2])\n",
    "print(lista[-1])\n",
    "print(lista[2:])"
   ]
  },
  {
   "cell_type": "markdown",
   "metadata": {},
   "source": [
    "##### Longitud en listas"
   ]
  },
  {
   "cell_type": "code",
   "execution_count": null,
   "metadata": {},
   "outputs": [],
   "source": [
    "len(lista)"
   ]
  },
  {
   "cell_type": "markdown",
   "metadata": {},
   "source": [
    "#### Diccionarios"
   ]
  },
  {
   "cell_type": "code",
   "execution_count": null,
   "metadata": {},
   "outputs": [],
   "source": [
    "# Diccionario. Las entradas son pares, una llave y un valor\n",
    "pp = {'lis':[\"c\",\"d\"],'v':34} \n",
    "print(pp['v'])\n",
    "print(pp.keys())\n",
    "print(pp.values())"
   ]
  }
 ],
 "metadata": {
  "kernelspec": {
   "display_name": "Python 3",
   "language": "python",
   "name": "python3"
  },
  "language_info": {
   "codemirror_mode": {
    "name": "ipython",
    "version": 2
   },
   "file_extension": ".py",
   "mimetype": "text/x-python",
   "name": "python",
   "nbconvert_exporter": "python",
   "pygments_lexer": "ipython2",
   "version": "2.7.16"
  }
 },
 "nbformat": 4,
 "nbformat_minor": 2
}
