{
 "cells": [
  {
   "cell_type": "markdown",
   "metadata": {},
   "source": [
    "# Principios básicos de python\n",
    "## Funciones\n",
    "### Marco Arieli Herrera-Valdez$^1$\n",
    "#### $^1$Laboratorio de Fisiología de Sistemas, Facultad de Ciencias, UNAM\n",
    "\n",
    "Ultima actualización: Diciembre 31, 2019"
   ]
  },
  {
   "cell_type": "code",
   "execution_count": 16,
   "metadata": {},
   "outputs": [],
   "source": [
    "def miFuncion(nom=\"nombre raro\"):\n",
    "    print(\"Hola \" + nom)"
   ]
  },
  {
   "cell_type": "code",
   "execution_count": 17,
   "metadata": {},
   "outputs": [
    {
     "name": "stdout",
     "output_type": "stream",
     "text": [
      "Hola nombre raro\n"
     ]
    }
   ],
   "source": [
    "miFuncion()"
   ]
  },
  {
   "cell_type": "markdown",
   "metadata": {},
   "source": [
    "Los argumentos de una funcion pueden cambiar de lugar."
   ]
  },
  {
   "cell_type": "code",
   "execution_count": 31,
   "metadata": {},
   "outputs": [],
   "source": [
    "def suma1(a,b):\n",
    "    s= a + 3*b\n",
    "    print('a=%g, b=%g, s=%g'%(a,b,s))\n",
    "    return s"
   ]
  },
  {
   "cell_type": "code",
   "execution_count": 32,
   "metadata": {},
   "outputs": [
    {
     "name": "stdout",
     "output_type": "stream",
     "text": [
      "a=2, b=5, s=17\n",
      "a=5, b=2, s=11\n",
      "a=2, b=5, s=17\n"
     ]
    },
    {
     "data": {
      "text/plain": [
       "17"
      ]
     },
     "execution_count": 32,
     "metadata": {},
     "output_type": "execute_result"
    }
   ],
   "source": [
    "suma1(2,5)\n",
    "suma1(5,2)\n",
    "suma1(b=5,a=2)"
   ]
  },
  {
   "cell_type": "markdown",
   "metadata": {},
   "source": [
    "Los argumentos de una funcion pueden tener valores previamente especificados. En ese caso los argumentos previamente fijos deben ser escritos al final de la lista de argumentos\n"
   ]
  },
  {
   "cell_type": "code",
   "execution_count": 35,
   "metadata": {},
   "outputs": [],
   "source": [
    "def suma2(a,b,c=2):\n",
    "    s= a + c*b\n",
    "    print('a=%g, b=%g, c=%g, s=%g'%(a,b,c,s))\n",
    "    return s"
   ]
  },
  {
   "cell_type": "code",
   "execution_count": 36,
   "metadata": {},
   "outputs": [
    {
     "name": "stdout",
     "output_type": "stream",
     "text": [
      "a=2, b=5, c=3, s=17\n",
      "a=5, b=2, c=2, s=9\n",
      "a=2, b=5, c=2, s=12\n"
     ]
    },
    {
     "data": {
      "text/plain": [
       "12"
      ]
     },
     "execution_count": 36,
     "metadata": {},
     "output_type": "execute_result"
    }
   ],
   "source": [
    "suma2(2,5,3)\n",
    "suma2(5,2)\n",
    "suma2(b=5,a=2)"
   ]
  },
  {
   "cell_type": "markdown",
   "metadata": {},
   "source": [
    "Se puede introducir informacion sobre una funcion antes del cuerpo de la funcion. Si se coloca el cursor al final de la función (sin ejecutarla), y se presiona SHIFT+TAB, podemos obtener información y documentación sobre la función."
   ]
  },
  {
   "cell_type": "code",
   "execution_count": 44,
   "metadata": {},
   "outputs": [
    {
     "data": {
      "text/plain": [
       "<function __main__.suma3>"
      ]
     },
     "execution_count": 44,
     "metadata": {},
     "output_type": "execute_result"
    }
   ],
   "source": [
    "def suma3(a,b,wa=0.5):\n",
    "    \"\"\"\n",
    "    suma3 calcula una suma ponderada de dos números a y b. \n",
    "    Las ponderaciones son especificadas automáticamente al fijar el valor wa. \n",
    "    \"\"\"\n",
    "    wb= 1-wa\n",
    "    s= a*wa + b*wb\n",
    "    print('a=%g, b=%g, wa=%g, wb=%g, s=%g'%(a,b,wa,wb,s))\n",
    "    return s\n",
    "\n",
    "suma3"
   ]
  },
  {
   "cell_type": "code",
   "execution_count": 45,
   "metadata": {},
   "outputs": [
    {
     "name": "stdout",
     "output_type": "stream",
     "text": [
      "a=1, b=3, wa=0.5, wb=0.5, s=2\n"
     ]
    },
    {
     "data": {
      "text/plain": [
       "2.0"
      ]
     },
     "execution_count": 45,
     "metadata": {},
     "output_type": "execute_result"
    }
   ],
   "source": [
    "suma3(1,3)"
   ]
  },
  {
   "cell_type": "markdown",
   "metadata": {},
   "source": [
    "Cambiando el peso de ponderacion"
   ]
  },
  {
   "cell_type": "code",
   "execution_count": 46,
   "metadata": {},
   "outputs": [
    {
     "name": "stdout",
     "output_type": "stream",
     "text": [
      "a=1, b=3, wa=0.2, wb=0.8, s=2.6\n"
     ]
    },
    {
     "data": {
      "text/plain": [
       "2.6000000000000005"
      ]
     },
     "execution_count": 46,
     "metadata": {},
     "output_type": "execute_result"
    }
   ],
   "source": [
    "suma3(1,3,0.2)"
   ]
  },
  {
   "cell_type": "markdown",
   "metadata": {},
   "source": [
    "#### Expresiones lambda"
   ]
  },
  {
   "cell_type": "markdown",
   "metadata": {},
   "source": [
    "Las expresiones lambda son funciones anónimas que son útiles para utilizar map rápidamente"
   ]
  },
  {
   "cell_type": "code",
   "execution_count": 53,
   "metadata": {},
   "outputs": [
    {
     "name": "stdout",
     "output_type": "stream",
     "text": [
      "<function <lambda> at 0x10580a1b8>\n"
     ]
    }
   ],
   "source": [
    "f = lambda x: 3*x+1\n",
    "print(f)"
   ]
  },
  {
   "cell_type": "code",
   "execution_count": 54,
   "metadata": {},
   "outputs": [
    {
     "data": {
      "text/plain": [
       "[7, 10, 16, 22, 34]"
      ]
     },
     "execution_count": 54,
     "metadata": {},
     "output_type": "execute_result"
    }
   ],
   "source": [
    "list(map(f,primos))"
   ]
  },
  {
   "cell_type": "markdown",
   "metadata": {},
   "source": [
    "#### Map"
   ]
  },
  {
   "cell_type": "markdown",
   "metadata": {},
   "source": [
    "Map aplica una función sobre elementos de una lista y regresa todos los resultados juntos"
   ]
  },
  {
   "cell_type": "code",
   "execution_count": 49,
   "metadata": {},
   "outputs": [],
   "source": [
    "def suma4(a,b=1):\n",
    "    s= a + b\n",
    "    print('a=%g, b=%g, s=%g'%(a,b,s))\n",
    "    return s\n"
   ]
  },
  {
   "cell_type": "code",
   "execution_count": 50,
   "metadata": {},
   "outputs": [
    {
     "name": "stdout",
     "output_type": "stream",
     "text": [
      "a=2, b=1, s=3\n",
      "a=3, b=1, s=4\n",
      "a=5, b=1, s=6\n",
      "a=7, b=1, s=8\n",
      "a=11, b=1, s=12\n"
     ]
    },
    {
     "data": {
      "text/plain": [
       "[3, 4, 6, 8, 12]"
      ]
     },
     "execution_count": 50,
     "metadata": {},
     "output_type": "execute_result"
    }
   ],
   "source": [
    "primos = [2,3,5,7,11]\n",
    "map(suma4,primos)"
   ]
  },
  {
   "cell_type": "markdown",
   "metadata": {},
   "source": [
    "#### Filter"
   ]
  },
  {
   "cell_type": "markdown",
   "metadata": {},
   "source": [
    "FIltra elementos de una lista en base a un criterio"
   ]
  },
  {
   "cell_type": "code",
   "execution_count": 78,
   "metadata": {},
   "outputs": [
    {
     "data": {
      "text/plain": [
       "[3, 5, 11]"
      ]
     },
     "execution_count": 78,
     "metadata": {},
     "output_type": "execute_result"
    }
   ],
   "source": [
    "filter(lambda x: x%7 >2, primos)"
   ]
  }
 ],
 "metadata": {
  "kernelspec": {
   "display_name": "Python 3",
   "language": "python",
   "name": "python3"
  },
  "language_info": {
   "codemirror_mode": {
    "name": "ipython",
    "version": 3
   },
   "file_extension": ".py",
   "mimetype": "text/x-python",
   "name": "python",
   "nbconvert_exporter": "python",
   "pygments_lexer": "ipython3",
   "version": "3.8.1"
  }
 },
 "nbformat": 4,
 "nbformat_minor": 2
}
