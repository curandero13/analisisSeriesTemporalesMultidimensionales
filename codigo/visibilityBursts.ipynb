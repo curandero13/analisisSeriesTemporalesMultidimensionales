{
 "cells": [
  {
   "cell_type": "markdown",
   "metadata": {},
   "source": [
    "# Gráficas de visibilidad en trenes de disparos en los ganglios basales\n",
    "\n",
    "### Marco Arieli Herrera-Valdez$^1$, Alejandra Verónica Cáceres$^2$, José Bargas$^2$\n",
    "#### $^1$Facultad de Ciencias, $^2$Instituto de Fisiología Celular, División de Neurociencias, \n",
    "#### Universidad Nacional Autónoma de México\n",
    "\n",
    "\n",
    "Cálculo de gráficas de visibilidad en trenes de disparos registrados con patch clamp."
   ]
  },
  {
   "cell_type": "code",
   "execution_count": 6,
   "metadata": {
    "collapsed": false
   },
   "outputs": [
    {
     "name": "stdout",
     "output_type": "stream",
     "text": [
      "Running unit tests for scipy\n",
      "NumPy version 1.10.4\n",
      "NumPy relaxed strides checking option: False\n",
      "NumPy is installed in /Library/Frameworks/Python.framework/Versions/3.5/lib/python3.5/site-packages/numpy\n",
      "SciPy version 0.17.0\n",
      "SciPy is installed in /Library/Frameworks/Python.framework/Versions/3.5/lib/python3.5/site-packages/scipy\n",
      "Python version 3.5.1 (v3.5.1:37a07cee5969, Dec  5 2015, 21:12:44) [GCC 4.2.1 (Apple Inc. build 5666) (dot 3)]\n",
      "nose version 1.3.7\n"
     ]
    },
    {
     "name": "stderr",
     "output_type": "stream",
     "text": [
      ".\n",
      "----------------------------------------------------------------------\n",
      "Ran 1 test in 2.545s\n",
      "\n",
      "OK\n"
     ]
    }
   ],
   "source": [
    "import scipy as sc\n",
    "sc.test(\"all\")\n",
    "import pylab as gr\n",
    "import io\n",
    "import networkx as nx"
   ]
  },
  {
   "cell_type": "markdown",
   "metadata": {},
   "source": [
    "Funciones de soporte"
   ]
  },
  {
   "cell_type": "code",
   "execution_count": 7,
   "metadata": {
    "collapsed": false
   },
   "outputs": [],
   "source": [
    "def getFileList(dataDir, prefix, suffix):\n",
    "    files=list()\n",
    "    for f in os.listdir(dataDir):\n",
    "        a=os.path.isfile(os.path.join(dataDir,f))\n",
    "        b=string.find(f,prefix)>-1\n",
    "        c=string.find(f,suffix)>0\n",
    "        #print(f,a,b,c)\n",
    "        if (a*b*c):\n",
    "            files.append(f)\n",
    "    nFiles = len(files)\n",
    "    print(\"Found %d files with the indicated string\"%nFiles)\n",
    "    print(files)\n",
    "    return files\n",
    "\n",
    "def slopeAB(A,B):\n",
    "    \"\"\"\n",
    "    slopeAB calculates the slope between two points A and B\n",
    "    Example:\n",
    "    sAB=slopeAB(a,b)\n",
    "    \"\"\"\n",
    "    mAB = (B[1]-A[1]) / (B[0]-A[0])\n",
    "    return mAB\n",
    "\n",
    "\n",
    "def calcFwdSlopes(x,y): \n",
    "    \"\"\"\n",
    "    calcFwdSlopes calculates the forward-slopes between pairs of points from graph {(x,y)}\n",
    "    Example:\n",
    "    s=calcFwdSlopes(x,y)\n",
    "    \"\"\"\n",
    "    nY=len(y)\n",
    "    s=list()\n",
    "    for m in sc.arange(nY-1):\n",
    "        A=[x[m], y[m]]\n",
    "        s.append(list())\n",
    "        for n in sc.arange(m+1,nY):\n",
    "            B=[x[n], y[n]]\n",
    "            s[m].append(slopeAB(A,B))\n",
    "    return s \n",
    "\n",
    "def fwdVisibilityInds(x,y):\n",
    "    \"\"\"\n",
    "    fwdVisibilityInds obtains the indices of the forward-visible neighbours within a graph {(x,y)}\n",
    "    neighs=fwdVisibilityInds(x,y)\n",
    "    \"\"\"\n",
    "    nodes=list()\n",
    "    neighs=list()\n",
    "    nY=len(y)\n",
    "    s=calcFwdSlopes(x,y)\n",
    "    #nodes = sc.arange(nY)\n",
    "    for m in sc.arange(nY-2):\n",
    "        a=[x[m], y[m]]\n",
    "        b=[x[m+1], y[m+1]]\n",
    "        sAB=slopeAB(a,b)\n",
    "        neighs.append(list())\n",
    "        neighs[m].append(m+1)\n",
    "        for n in sc.arange(m+2,len(s[m])):\n",
    "            if sAB < s[m][n]:\n",
    "                sAB=s[m][n]\n",
    "                neighs[m].append(n)\n",
    "    return neighs"
   ]
  },
  {
   "cell_type": "code",
   "execution_count": 8,
   "metadata": {
    "collapsed": false
   },
   "outputs": [
    {
     "ename": "AttributeError",
     "evalue": "module 'io' has no attribute 'loadmat'",
     "output_type": "error",
     "traceback": [
      "\u001b[0;31m---------------------------------------------------------------------------\u001b[0m",
      "\u001b[0;31mAttributeError\u001b[0m                            Traceback (most recent call last)",
      "\u001b[0;32m<ipython-input-8-20c86a5deb38>\u001b[0m in \u001b[0;36m<module>\u001b[0;34m()\u001b[0m\n\u001b[1;32m      1\u001b[0m \u001b[0mdataDir\u001b[0m\u001b[0;34m=\u001b[0m \u001b[0;34m\"./trenesBursts/aleSpikeTimes/\"\u001b[0m\u001b[0;34m\u001b[0m\u001b[0m\n\u001b[1;32m      2\u001b[0m \u001b[0mfName\u001b[0m \u001b[0;34m=\u001b[0m \u001b[0;34m\"CntSt1.mat\"\u001b[0m\u001b[0;34m\u001b[0m\u001b[0m\n\u001b[0;32m----> 3\u001b[0;31m \u001b[0mpigas\u001b[0m \u001b[0;34m=\u001b[0m \u001b[0msc\u001b[0m\u001b[0;34m.\u001b[0m\u001b[0msqueeze\u001b[0m\u001b[0;34m(\u001b[0m\u001b[0mio\u001b[0m\u001b[0;34m.\u001b[0m\u001b[0mloadmat\u001b[0m\u001b[0;34m(\u001b[0m\u001b[0mdataDir\u001b[0m \u001b[0;34m+\u001b[0m \u001b[0mfName\u001b[0m\u001b[0;34m)\u001b[0m\u001b[0;34m[\u001b[0m\u001b[0;34m\"savevar\"\u001b[0m\u001b[0;34m]\u001b[0m\u001b[0;34m[\u001b[0m\u001b[0;36m0\u001b[0m\u001b[0;34m]\u001b[0m\u001b[0;34m[\u001b[0m\u001b[0;36m0\u001b[0m\u001b[0;34m]\u001b[0m\u001b[0;34m)\u001b[0m\u001b[0;34m\u001b[0m\u001b[0m\n\u001b[0m",
      "\u001b[0;31mAttributeError\u001b[0m: module 'io' has no attribute 'loadmat'"
     ]
    }
   ],
   "source": [
    "dataDir= \"./trenesBursts/aleSpikeTimes/\"\n",
    "fName = \"CntSt1.mat\"\n",
    "pigas = sc.squeeze(io.loadmat(dataDir + fName)[\"savevar\"][0][0])"
   ]
  },
  {
   "cell_type": "code",
   "execution_count": null,
   "metadata": {
    "collapsed": true
   },
   "outputs": [],
   "source": [
    "isi = sc.zeros(len(pigas))\n",
    "isi[1:]= pigas[1:]-pigas[:-1]\n",
    "ifr= 1/isi\n",
    "series= ifr[0:len(ifr)]\n",
    "print(\"Calculating the visibility graph of the time series (%d points)\"%len(series))\n",
    "startTime= time.time()\n",
    "g = visibility_graph( series)\n",
    "totTime= time.time() - startTime\n",
    "print(\"Took %d seconds to calculate the graph\"%totTime)\n",
    "gr.figure()\n",
    "nx.draw(g,node_color=\"b\",node_size=10)\n",
    "gr.show()\n"
   ]
  }
 ],
 "metadata": {
  "kernelspec": {
   "display_name": "Python 3",
   "language": "python",
   "name": "python3"
  },
  "language_info": {
   "codemirror_mode": {
    "name": "ipython",
    "version": 3
   },
   "file_extension": ".py",
   "mimetype": "text/x-python",
   "name": "python",
   "nbconvert_exporter": "python",
   "pygments_lexer": "ipython3",
   "version": "3.5.1"
  }
 },
 "nbformat": 4,
 "nbformat_minor": 0
}
